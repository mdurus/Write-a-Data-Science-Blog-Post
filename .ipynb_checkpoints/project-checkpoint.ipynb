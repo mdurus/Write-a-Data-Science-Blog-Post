{
 "cells": [
  {
   "cell_type": "markdown",
   "metadata": {},
   "source": [
    "# Identify the developers and understand the diversity across the world\n",
    "\n",
    "With the help of CRIP-DM processes, I would like to analyze stackoverflow2017 survey results for a better understanding a developer environment and diversity among developers.\n",
    "CRISP-DM phases\n",
    "- Business Understanding\n",
    "- Data Understanding\n",
    "- Data Preparation\n",
    "- Modeling\n",
    "- Evaluation\n",
    "- Deployment\n"
   ]
  },
  {
   "cell_type": "markdown",
   "metadata": {},
   "source": [
    "## Business and Data Understanding\n",
    "\n",
    "The data gives us insight about the experinces of the developers all around the world. To see the environment and diversity among them, I have selected some questions after understanding the data. I have checked the parameters on the previous cells to figure out my questions.\n",
    "\n",
    "I have 3 questions that would like to analyze\n",
    "\n",
    "1-) What is the environment of professional developer? I would like to understand working environment, education and diversity around them.\n",
    "\n",
    "2-) Is there a correlation between diversity of their environment and their thinking about the importance of diversity across the world? I would like to understand their view to diversity and show the similarities and differences between other cultures?\n",
    "\n",
    "3-) Is there a sign to change the diversity in short term? I would like to analyze diversity among students as a follower of professionals.\n",
    "\n"
   ]
  },
  {
   "cell_type": "code",
   "execution_count": 421,
   "metadata": {},
   "outputs": [
    {
     "data": {
      "text/html": [
       "<div>\n",
       "<style scoped>\n",
       "    .dataframe tbody tr th:only-of-type {\n",
       "        vertical-align: middle;\n",
       "    }\n",
       "\n",
       "    .dataframe tbody tr th {\n",
       "        vertical-align: top;\n",
       "    }\n",
       "\n",
       "    .dataframe thead th {\n",
       "        text-align: right;\n",
       "    }\n",
       "</style>\n",
       "<table border=\"1\" class=\"dataframe\">\n",
       "  <thead>\n",
       "    <tr style=\"text-align: right;\">\n",
       "      <th></th>\n",
       "      <th>Respondent</th>\n",
       "      <th>Professional</th>\n",
       "      <th>ProgramHobby</th>\n",
       "      <th>Country</th>\n",
       "      <th>University</th>\n",
       "      <th>EmploymentStatus</th>\n",
       "      <th>FormalEducation</th>\n",
       "      <th>MajorUndergrad</th>\n",
       "      <th>HomeRemote</th>\n",
       "      <th>CompanySize</th>\n",
       "      <th>...</th>\n",
       "      <th>StackOverflowMakeMoney</th>\n",
       "      <th>Gender</th>\n",
       "      <th>HighestEducationParents</th>\n",
       "      <th>Race</th>\n",
       "      <th>SurveyLong</th>\n",
       "      <th>QuestionsInteresting</th>\n",
       "      <th>QuestionsConfusing</th>\n",
       "      <th>InterestedAnswers</th>\n",
       "      <th>Salary</th>\n",
       "      <th>ExpectedSalary</th>\n",
       "    </tr>\n",
       "  </thead>\n",
       "  <tbody>\n",
       "    <tr>\n",
       "      <td>0</td>\n",
       "      <td>1</td>\n",
       "      <td>Student</td>\n",
       "      <td>Yes, both</td>\n",
       "      <td>United States</td>\n",
       "      <td>No</td>\n",
       "      <td>Not employed, and not looking for work</td>\n",
       "      <td>Secondary school</td>\n",
       "      <td>NaN</td>\n",
       "      <td>NaN</td>\n",
       "      <td>NaN</td>\n",
       "      <td>...</td>\n",
       "      <td>Strongly disagree</td>\n",
       "      <td>Male</td>\n",
       "      <td>High school</td>\n",
       "      <td>White or of European descent</td>\n",
       "      <td>Strongly disagree</td>\n",
       "      <td>Strongly agree</td>\n",
       "      <td>Disagree</td>\n",
       "      <td>Strongly agree</td>\n",
       "      <td>NaN</td>\n",
       "      <td>NaN</td>\n",
       "    </tr>\n",
       "    <tr>\n",
       "      <td>1</td>\n",
       "      <td>2</td>\n",
       "      <td>Student</td>\n",
       "      <td>Yes, both</td>\n",
       "      <td>United Kingdom</td>\n",
       "      <td>Yes, full-time</td>\n",
       "      <td>Employed part-time</td>\n",
       "      <td>Some college/university study without earning ...</td>\n",
       "      <td>Computer science or software engineering</td>\n",
       "      <td>More than half, but not all, the time</td>\n",
       "      <td>20 to 99 employees</td>\n",
       "      <td>...</td>\n",
       "      <td>Strongly disagree</td>\n",
       "      <td>Male</td>\n",
       "      <td>A master's degree</td>\n",
       "      <td>White or of European descent</td>\n",
       "      <td>Somewhat agree</td>\n",
       "      <td>Somewhat agree</td>\n",
       "      <td>Disagree</td>\n",
       "      <td>Strongly agree</td>\n",
       "      <td>NaN</td>\n",
       "      <td>37500.0</td>\n",
       "    </tr>\n",
       "    <tr>\n",
       "      <td>2</td>\n",
       "      <td>3</td>\n",
       "      <td>Professional developer</td>\n",
       "      <td>Yes, both</td>\n",
       "      <td>United Kingdom</td>\n",
       "      <td>No</td>\n",
       "      <td>Employed full-time</td>\n",
       "      <td>Bachelor's degree</td>\n",
       "      <td>Computer science or software engineering</td>\n",
       "      <td>Less than half the time, but at least one day ...</td>\n",
       "      <td>10,000 or more employees</td>\n",
       "      <td>...</td>\n",
       "      <td>Disagree</td>\n",
       "      <td>Male</td>\n",
       "      <td>A professional degree</td>\n",
       "      <td>White or of European descent</td>\n",
       "      <td>Somewhat agree</td>\n",
       "      <td>Agree</td>\n",
       "      <td>Disagree</td>\n",
       "      <td>Agree</td>\n",
       "      <td>113750.0</td>\n",
       "      <td>NaN</td>\n",
       "    </tr>\n",
       "    <tr>\n",
       "      <td>3</td>\n",
       "      <td>4</td>\n",
       "      <td>Professional non-developer who sometimes write...</td>\n",
       "      <td>Yes, both</td>\n",
       "      <td>United States</td>\n",
       "      <td>No</td>\n",
       "      <td>Employed full-time</td>\n",
       "      <td>Doctoral degree</td>\n",
       "      <td>A non-computer-focused engineering discipline</td>\n",
       "      <td>Less than half the time, but at least one day ...</td>\n",
       "      <td>10,000 or more employees</td>\n",
       "      <td>...</td>\n",
       "      <td>Disagree</td>\n",
       "      <td>Male</td>\n",
       "      <td>A doctoral degree</td>\n",
       "      <td>White or of European descent</td>\n",
       "      <td>Agree</td>\n",
       "      <td>Agree</td>\n",
       "      <td>Somewhat agree</td>\n",
       "      <td>Strongly agree</td>\n",
       "      <td>NaN</td>\n",
       "      <td>NaN</td>\n",
       "    </tr>\n",
       "    <tr>\n",
       "      <td>4</td>\n",
       "      <td>5</td>\n",
       "      <td>Professional developer</td>\n",
       "      <td>Yes, I program as a hobby</td>\n",
       "      <td>Switzerland</td>\n",
       "      <td>No</td>\n",
       "      <td>Employed full-time</td>\n",
       "      <td>Master's degree</td>\n",
       "      <td>Computer science or software engineering</td>\n",
       "      <td>Never</td>\n",
       "      <td>10 to 19 employees</td>\n",
       "      <td>...</td>\n",
       "      <td>NaN</td>\n",
       "      <td>NaN</td>\n",
       "      <td>NaN</td>\n",
       "      <td>NaN</td>\n",
       "      <td>NaN</td>\n",
       "      <td>NaN</td>\n",
       "      <td>NaN</td>\n",
       "      <td>NaN</td>\n",
       "      <td>NaN</td>\n",
       "      <td>NaN</td>\n",
       "    </tr>\n",
       "  </tbody>\n",
       "</table>\n",
       "<p>5 rows × 154 columns</p>\n",
       "</div>"
      ],
      "text/plain": [
       "   Respondent                                       Professional  \\\n",
       "0           1                                            Student   \n",
       "1           2                                            Student   \n",
       "2           3                             Professional developer   \n",
       "3           4  Professional non-developer who sometimes write...   \n",
       "4           5                             Professional developer   \n",
       "\n",
       "                ProgramHobby         Country      University  \\\n",
       "0                  Yes, both   United States              No   \n",
       "1                  Yes, both  United Kingdom  Yes, full-time   \n",
       "2                  Yes, both  United Kingdom              No   \n",
       "3                  Yes, both   United States              No   \n",
       "4  Yes, I program as a hobby     Switzerland              No   \n",
       "\n",
       "                         EmploymentStatus  \\\n",
       "0  Not employed, and not looking for work   \n",
       "1                      Employed part-time   \n",
       "2                      Employed full-time   \n",
       "3                      Employed full-time   \n",
       "4                      Employed full-time   \n",
       "\n",
       "                                     FormalEducation  \\\n",
       "0                                   Secondary school   \n",
       "1  Some college/university study without earning ...   \n",
       "2                                  Bachelor's degree   \n",
       "3                                    Doctoral degree   \n",
       "4                                    Master's degree   \n",
       "\n",
       "                                  MajorUndergrad  \\\n",
       "0                                            NaN   \n",
       "1       Computer science or software engineering   \n",
       "2       Computer science or software engineering   \n",
       "3  A non-computer-focused engineering discipline   \n",
       "4       Computer science or software engineering   \n",
       "\n",
       "                                          HomeRemote  \\\n",
       "0                                                NaN   \n",
       "1              More than half, but not all, the time   \n",
       "2  Less than half the time, but at least one day ...   \n",
       "3  Less than half the time, but at least one day ...   \n",
       "4                                              Never   \n",
       "\n",
       "                CompanySize  ... StackOverflowMakeMoney Gender  \\\n",
       "0                       NaN  ...      Strongly disagree   Male   \n",
       "1        20 to 99 employees  ...      Strongly disagree   Male   \n",
       "2  10,000 or more employees  ...               Disagree   Male   \n",
       "3  10,000 or more employees  ...               Disagree   Male   \n",
       "4        10 to 19 employees  ...                    NaN    NaN   \n",
       "\n",
       "  HighestEducationParents                          Race         SurveyLong  \\\n",
       "0             High school  White or of European descent  Strongly disagree   \n",
       "1       A master's degree  White or of European descent     Somewhat agree   \n",
       "2   A professional degree  White or of European descent     Somewhat agree   \n",
       "3       A doctoral degree  White or of European descent              Agree   \n",
       "4                     NaN                           NaN                NaN   \n",
       "\n",
       "  QuestionsInteresting QuestionsConfusing InterestedAnswers    Salary  \\\n",
       "0       Strongly agree           Disagree    Strongly agree       NaN   \n",
       "1       Somewhat agree           Disagree    Strongly agree       NaN   \n",
       "2                Agree           Disagree             Agree  113750.0   \n",
       "3                Agree     Somewhat agree    Strongly agree       NaN   \n",
       "4                  NaN                NaN               NaN       NaN   \n",
       "\n",
       "   ExpectedSalary  \n",
       "0             NaN  \n",
       "1         37500.0  \n",
       "2             NaN  \n",
       "3             NaN  \n",
       "4             NaN  \n",
       "\n",
       "[5 rows x 154 columns]"
      ]
     },
     "execution_count": 421,
     "metadata": {},
     "output_type": "execute_result"
    }
   ],
   "source": [
    "# import necessary libraries and load the survery results\n",
    "import numpy as np\n",
    "import pandas as pd\n",
    "import matplotlib.pyplot as plt\n",
    "import seaborn as sns\n",
    "from IPython import display\n",
    "%matplotlib inline\n",
    "\n",
    "df = pd.read_csv('./survey_results_public.csv')\n",
    "df.head()"
   ]
  },
  {
   "cell_type": "code",
   "execution_count": 422,
   "metadata": {},
   "outputs": [
    {
     "data": {
      "text/html": [
       "<div>\n",
       "<style scoped>\n",
       "    .dataframe tbody tr th:only-of-type {\n",
       "        vertical-align: middle;\n",
       "    }\n",
       "\n",
       "    .dataframe tbody tr th {\n",
       "        vertical-align: top;\n",
       "    }\n",
       "\n",
       "    .dataframe thead th {\n",
       "        text-align: right;\n",
       "    }\n",
       "</style>\n",
       "<table border=\"1\" class=\"dataframe\">\n",
       "  <thead>\n",
       "    <tr style=\"text-align: right;\">\n",
       "      <th></th>\n",
       "      <th>Column</th>\n",
       "      <th>Question</th>\n",
       "    </tr>\n",
       "  </thead>\n",
       "  <tbody>\n",
       "    <tr>\n",
       "      <td>139</td>\n",
       "      <td>StackOverflowModeration</td>\n",
       "      <td>The moderation on Stack Overflow is unfair</td>\n",
       "    </tr>\n",
       "    <tr>\n",
       "      <td>140</td>\n",
       "      <td>StackOverflowCommunity</td>\n",
       "      <td>I feel like a member of the Stack Overflow com...</td>\n",
       "    </tr>\n",
       "    <tr>\n",
       "      <td>141</td>\n",
       "      <td>StackOverflowHelpful</td>\n",
       "      <td>The answers and code examples I get on Stack O...</td>\n",
       "    </tr>\n",
       "    <tr>\n",
       "      <td>142</td>\n",
       "      <td>StackOverflowBetter</td>\n",
       "      <td>Stack Overflow makes the Internet a better place</td>\n",
       "    </tr>\n",
       "    <tr>\n",
       "      <td>143</td>\n",
       "      <td>StackOverflowWhatDo</td>\n",
       "      <td>I don't know what I'd do without Stack Overflow</td>\n",
       "    </tr>\n",
       "    <tr>\n",
       "      <td>144</td>\n",
       "      <td>StackOverflowMakeMoney</td>\n",
       "      <td>The people who run Stack Overflow are just in ...</td>\n",
       "    </tr>\n",
       "    <tr>\n",
       "      <td>145</td>\n",
       "      <td>Gender</td>\n",
       "      <td>Which of the following do you currently identi...</td>\n",
       "    </tr>\n",
       "    <tr>\n",
       "      <td>146</td>\n",
       "      <td>HighestEducationParents</td>\n",
       "      <td>What is the highest level of education receive...</td>\n",
       "    </tr>\n",
       "    <tr>\n",
       "      <td>147</td>\n",
       "      <td>Race</td>\n",
       "      <td>Which of the following do you identify as?</td>\n",
       "    </tr>\n",
       "    <tr>\n",
       "      <td>148</td>\n",
       "      <td>SurveyLong</td>\n",
       "      <td>This survey was too long</td>\n",
       "    </tr>\n",
       "    <tr>\n",
       "      <td>149</td>\n",
       "      <td>QuestionsInteresting</td>\n",
       "      <td>The questions were interesting</td>\n",
       "    </tr>\n",
       "    <tr>\n",
       "      <td>150</td>\n",
       "      <td>QuestionsConfusing</td>\n",
       "      <td>The questions were confusing</td>\n",
       "    </tr>\n",
       "    <tr>\n",
       "      <td>151</td>\n",
       "      <td>InterestedAnswers</td>\n",
       "      <td>I'm interested in learning how other developer...</td>\n",
       "    </tr>\n",
       "    <tr>\n",
       "      <td>152</td>\n",
       "      <td>Salary</td>\n",
       "      <td>What is your current annual base salary, befor...</td>\n",
       "    </tr>\n",
       "    <tr>\n",
       "      <td>153</td>\n",
       "      <td>ExpectedSalary</td>\n",
       "      <td>You said before that you are currently learnin...</td>\n",
       "    </tr>\n",
       "  </tbody>\n",
       "</table>\n",
       "</div>"
      ],
      "text/plain": [
       "                      Column  \\\n",
       "139  StackOverflowModeration   \n",
       "140   StackOverflowCommunity   \n",
       "141     StackOverflowHelpful   \n",
       "142      StackOverflowBetter   \n",
       "143      StackOverflowWhatDo   \n",
       "144   StackOverflowMakeMoney   \n",
       "145                   Gender   \n",
       "146  HighestEducationParents   \n",
       "147                     Race   \n",
       "148               SurveyLong   \n",
       "149     QuestionsInteresting   \n",
       "150       QuestionsConfusing   \n",
       "151        InterestedAnswers   \n",
       "152                   Salary   \n",
       "153           ExpectedSalary   \n",
       "\n",
       "                                              Question  \n",
       "139         The moderation on Stack Overflow is unfair  \n",
       "140  I feel like a member of the Stack Overflow com...  \n",
       "141  The answers and code examples I get on Stack O...  \n",
       "142   Stack Overflow makes the Internet a better place  \n",
       "143    I don't know what I'd do without Stack Overflow  \n",
       "144  The people who run Stack Overflow are just in ...  \n",
       "145  Which of the following do you currently identi...  \n",
       "146  What is the highest level of education receive...  \n",
       "147         Which of the following do you identify as?  \n",
       "148                           This survey was too long  \n",
       "149                     The questions were interesting  \n",
       "150                       The questions were confusing  \n",
       "151  I'm interested in learning how other developer...  \n",
       "152  What is your current annual base salary, befor...  \n",
       "153  You said before that you are currently learnin...  "
      ]
     },
     "execution_count": 422,
     "metadata": {},
     "output_type": "execute_result"
    }
   ],
   "source": [
    "# load schema to understand survey questions. I selected my 3 main questions with the help of this table.\n",
    "schema=pd.read_csv('./survey_results_schema.csv')\n",
    "schema.tail(15)"
   ]
  },
  {
   "cell_type": "code",
   "execution_count": 478,
   "metadata": {},
   "outputs": [
    {
     "data": {
      "text/plain": [
       "'How long has it been since you first learned how to program?'"
      ]
     },
     "execution_count": 478,
     "metadata": {},
     "output_type": "execute_result"
    }
   ],
   "source": [
    "get_description('YearsProgram')"
   ]
  },
  {
   "cell_type": "markdown",
   "metadata": {},
   "source": [
    "## Prepare data"
   ]
  },
  {
   "cell_type": "code",
   "execution_count": 423,
   "metadata": {},
   "outputs": [
    {
     "data": {
      "text/plain": [
       "(51392, 154)"
      ]
     },
     "execution_count": 423,
     "metadata": {},
     "output_type": "execute_result"
    }
   ],
   "source": [
    "num_rows = df.shape[0] #Provide the number of rows in the dataset\n",
    "num_cols = df.shape[1] #Provide the number of columns in the dataset\n",
    "\n",
    "(num_rows, num_cols) "
   ]
  },
  {
   "cell_type": "code",
   "execution_count": 424,
   "metadata": {},
   "outputs": [
    {
     "data": {
      "text/plain": [
       "{'Country',\n",
       " 'EmploymentStatus',\n",
       " 'FormalEducation',\n",
       " 'Professional',\n",
       " 'ProgramHobby',\n",
       " 'Respondent',\n",
       " 'University'}"
      ]
     },
     "execution_count": 424,
     "metadata": {},
     "output_type": "execute_result"
    }
   ],
   "source": [
    "no_nulls = set(df.columns[df.isnull().mean()==0])#Provide a set of columns with 0 missing values.\n",
    "\n",
    "(no_nulls)"
   ]
  },
  {
   "cell_type": "code",
   "execution_count": 425,
   "metadata": {},
   "outputs": [
    {
     "data": {
      "text/plain": [
       "{'AssessJobCommute',\n",
       " 'AssessJobCompensation',\n",
       " 'AssessJobDept',\n",
       " 'AssessJobDiversity',\n",
       " 'AssessJobExp',\n",
       " 'AssessJobFinances',\n",
       " 'AssessJobIndustry',\n",
       " 'AssessJobLeaders',\n",
       " 'AssessJobOffice',\n",
       " 'AssessJobProduct',\n",
       " 'AssessJobProfDevel',\n",
       " 'AssessJobProjects',\n",
       " 'AssessJobRemote',\n",
       " 'AssessJobRole',\n",
       " 'AssessJobTech',\n",
       " 'CousinEducation',\n",
       " 'Currency',\n",
       " 'EducationImportant',\n",
       " 'ExCoder10Years',\n",
       " 'ExCoderActive',\n",
       " 'ExCoderBalance',\n",
       " 'ExCoderBelonged',\n",
       " 'ExCoderNotForMe',\n",
       " 'ExCoderReturn',\n",
       " 'ExCoderSkills',\n",
       " 'ExCoderWillNotCode',\n",
       " 'ExpectedSalary',\n",
       " 'HaveWorkedFramework',\n",
       " 'HoursPerWeek',\n",
       " 'InfluenceCloud',\n",
       " 'InfluenceCommunication',\n",
       " 'InfluenceConsultants',\n",
       " 'InfluenceDatabase',\n",
       " 'InfluenceDeptTech',\n",
       " 'InfluenceHardware',\n",
       " 'InfluenceRecruitment',\n",
       " 'InfluenceServers',\n",
       " 'InfluenceTechStack',\n",
       " 'InfluenceVizTools',\n",
       " 'InfluenceWorkstation',\n",
       " 'JobProfile',\n",
       " 'LearnedHiring',\n",
       " 'MetricAssess',\n",
       " 'MobileDeveloperType',\n",
       " 'NonDeveloperType',\n",
       " 'Overpaid',\n",
       " 'ResumePrompted',\n",
       " 'Salary',\n",
       " 'TimeAfterBootcamp',\n",
       " 'WantWorkDatabase',\n",
       " 'WantWorkFramework',\n",
       " 'WebDeveloperType',\n",
       " 'YearsCodedJobPast'}"
      ]
     },
     "execution_count": 425,
     "metadata": {},
     "output_type": "execute_result"
    }
   ],
   "source": [
    "most_missing_cols = set(df.columns[df.isnull().mean() > 0.5])#Provide a set of columns with more than 50% of the values missing\n",
    "\n",
    "(most_missing_cols)\n",
    "\n",
    "#  I will not use these columns not decrease sample sizes."
   ]
  },
  {
   "cell_type": "code",
   "execution_count": 426,
   "metadata": {},
   "outputs": [
    {
     "data": {
      "image/png": "[encoded data removed]",
      "text/plain": [
       "<Figure size 432x288 with 1 Axes>"
      ]
     },
     "metadata": {
      "needs_background": "light"
     },
     "output_type": "display_data"
    }
   ],
   "source": [
    "status_vals = df.Professional.value_counts()#Provide a pandas series of the counts for each Professional status\n",
    "\n",
    "# The below should be a bar chart of the proportion of individuals in each professional category if your status_vals\n",
    "# is set up correctly.\n",
    "\n",
    "(status_vals/df.shape[0]).plot(kind=\"bar\");\n",
    "plt.title(\"What kind of developer are you?\");"
   ]
  },
  {
   "cell_type": "markdown",
   "metadata": {},
   "source": [
    "As seen above, survey respondents are mainly professional developer and I think there are enough student that we can use in the analysis for Q3."
   ]
  },
  {
   "cell_type": "code",
   "execution_count": 427,
   "metadata": {},
   "outputs": [
    {
     "data": {
      "text/html": [
       "<div>\n",
       "<style scoped>\n",
       "    .dataframe tbody tr th:only-of-type {\n",
       "        vertical-align: middle;\n",
       "    }\n",
       "\n",
       "    .dataframe tbody tr th {\n",
       "        vertical-align: top;\n",
       "    }\n",
       "\n",
       "    .dataframe thead th {\n",
       "        text-align: right;\n",
       "    }\n",
       "</style>\n",
       "<table border=\"1\" class=\"dataframe\">\n",
       "  <thead>\n",
       "    <tr style=\"text-align: right;\">\n",
       "      <th></th>\n",
       "      <th>Respondent</th>\n",
       "      <th>Professional</th>\n",
       "      <th>ProgramHobby</th>\n",
       "      <th>Country</th>\n",
       "      <th>University</th>\n",
       "      <th>EmploymentStatus</th>\n",
       "      <th>FormalEducation</th>\n",
       "      <th>MajorUndergrad</th>\n",
       "      <th>HomeRemote</th>\n",
       "      <th>CompanySize</th>\n",
       "      <th>...</th>\n",
       "      <th>StackOverflowMakeMoney</th>\n",
       "      <th>Gender</th>\n",
       "      <th>HighestEducationParents</th>\n",
       "      <th>Race</th>\n",
       "      <th>SurveyLong</th>\n",
       "      <th>QuestionsInteresting</th>\n",
       "      <th>QuestionsConfusing</th>\n",
       "      <th>InterestedAnswers</th>\n",
       "      <th>Salary</th>\n",
       "      <th>ExpectedSalary</th>\n",
       "    </tr>\n",
       "  </thead>\n",
       "  <tbody>\n",
       "    <tr>\n",
       "      <td>2</td>\n",
       "      <td>3</td>\n",
       "      <td>Professional developer</td>\n",
       "      <td>Yes, both</td>\n",
       "      <td>United Kingdom</td>\n",
       "      <td>No</td>\n",
       "      <td>Employed full-time</td>\n",
       "      <td>Bachelor's degree</td>\n",
       "      <td>Computer science or software engineering</td>\n",
       "      <td>Less than half the time, but at least one day ...</td>\n",
       "      <td>10,000 or more employees</td>\n",
       "      <td>...</td>\n",
       "      <td>Disagree</td>\n",
       "      <td>Male</td>\n",
       "      <td>A professional degree</td>\n",
       "      <td>White or of European descent</td>\n",
       "      <td>Somewhat agree</td>\n",
       "      <td>Agree</td>\n",
       "      <td>Disagree</td>\n",
       "      <td>Agree</td>\n",
       "      <td>113750.0</td>\n",
       "      <td>NaN</td>\n",
       "    </tr>\n",
       "    <tr>\n",
       "      <td>4</td>\n",
       "      <td>5</td>\n",
       "      <td>Professional developer</td>\n",
       "      <td>Yes, I program as a hobby</td>\n",
       "      <td>Switzerland</td>\n",
       "      <td>No</td>\n",
       "      <td>Employed full-time</td>\n",
       "      <td>Master's degree</td>\n",
       "      <td>Computer science or software engineering</td>\n",
       "      <td>Never</td>\n",
       "      <td>10 to 19 employees</td>\n",
       "      <td>...</td>\n",
       "      <td>NaN</td>\n",
       "      <td>NaN</td>\n",
       "      <td>NaN</td>\n",
       "      <td>NaN</td>\n",
       "      <td>NaN</td>\n",
       "      <td>NaN</td>\n",
       "      <td>NaN</td>\n",
       "      <td>NaN</td>\n",
       "      <td>NaN</td>\n",
       "      <td>NaN</td>\n",
       "    </tr>\n",
       "    <tr>\n",
       "      <td>7</td>\n",
       "      <td>8</td>\n",
       "      <td>Professional developer</td>\n",
       "      <td>Yes, both</td>\n",
       "      <td>Poland</td>\n",
       "      <td>No</td>\n",
       "      <td>Employed full-time</td>\n",
       "      <td>Master's degree</td>\n",
       "      <td>Computer science or software engineering</td>\n",
       "      <td>All or almost all the time (I'm full-time remote)</td>\n",
       "      <td>Fewer than 10 employees</td>\n",
       "      <td>...</td>\n",
       "      <td>Somewhat agree</td>\n",
       "      <td>Male</td>\n",
       "      <td>A master's degree</td>\n",
       "      <td>White or of European descent</td>\n",
       "      <td>Agree</td>\n",
       "      <td>Somewhat agree</td>\n",
       "      <td>Disagree</td>\n",
       "      <td>Agree</td>\n",
       "      <td>NaN</td>\n",
       "      <td>NaN</td>\n",
       "    </tr>\n",
       "    <tr>\n",
       "      <td>8</td>\n",
       "      <td>9</td>\n",
       "      <td>Professional developer</td>\n",
       "      <td>Yes, I program as a hobby</td>\n",
       "      <td>Colombia</td>\n",
       "      <td>Yes, part-time</td>\n",
       "      <td>Employed full-time</td>\n",
       "      <td>Bachelor's degree</td>\n",
       "      <td>Computer science or software engineering</td>\n",
       "      <td>Less than half the time, but at least one day ...</td>\n",
       "      <td>5,000 to 9,999 employees</td>\n",
       "      <td>...</td>\n",
       "      <td>Strongly disagree</td>\n",
       "      <td>Male</td>\n",
       "      <td>A bachelor's degree</td>\n",
       "      <td>Hispanic or Latino/Latina</td>\n",
       "      <td>Somewhat agree</td>\n",
       "      <td>Strongly agree</td>\n",
       "      <td>Disagree</td>\n",
       "      <td>Strongly agree</td>\n",
       "      <td>NaN</td>\n",
       "      <td>NaN</td>\n",
       "    </tr>\n",
       "    <tr>\n",
       "      <td>9</td>\n",
       "      <td>10</td>\n",
       "      <td>Professional developer</td>\n",
       "      <td>Yes, I program as a hobby</td>\n",
       "      <td>France</td>\n",
       "      <td>Yes, full-time</td>\n",
       "      <td>Independent contractor, freelancer, or self-em...</td>\n",
       "      <td>Master's degree</td>\n",
       "      <td>Computer science or software engineering</td>\n",
       "      <td>It's complicated</td>\n",
       "      <td>NaN</td>\n",
       "      <td>...</td>\n",
       "      <td>Disagree</td>\n",
       "      <td>Male</td>\n",
       "      <td>A doctoral degree</td>\n",
       "      <td>White or of European descent</td>\n",
       "      <td>Somewhat agree</td>\n",
       "      <td>Agree</td>\n",
       "      <td>Disagree</td>\n",
       "      <td>Agree</td>\n",
       "      <td>NaN</td>\n",
       "      <td>NaN</td>\n",
       "    </tr>\n",
       "  </tbody>\n",
       "</table>\n",
       "<p>5 rows × 154 columns</p>\n",
       "</div>"
      ],
      "text/plain": [
       "   Respondent            Professional               ProgramHobby  \\\n",
       "2           3  Professional developer                  Yes, both   \n",
       "4           5  Professional developer  Yes, I program as a hobby   \n",
       "7           8  Professional developer                  Yes, both   \n",
       "8           9  Professional developer  Yes, I program as a hobby   \n",
       "9          10  Professional developer  Yes, I program as a hobby   \n",
       "\n",
       "          Country      University  \\\n",
       "2  United Kingdom              No   \n",
       "4     Switzerland              No   \n",
       "7          Poland              No   \n",
       "8        Colombia  Yes, part-time   \n",
       "9          France  Yes, full-time   \n",
       "\n",
       "                                    EmploymentStatus    FormalEducation  \\\n",
       "2                                 Employed full-time  Bachelor's degree   \n",
       "4                                 Employed full-time    Master's degree   \n",
       "7                                 Employed full-time    Master's degree   \n",
       "8                                 Employed full-time  Bachelor's degree   \n",
       "9  Independent contractor, freelancer, or self-em...    Master's degree   \n",
       "\n",
       "                             MajorUndergrad  \\\n",
       "2  Computer science or software engineering   \n",
       "4  Computer science or software engineering   \n",
       "7  Computer science or software engineering   \n",
       "8  Computer science or software engineering   \n",
       "9  Computer science or software engineering   \n",
       "\n",
       "                                          HomeRemote  \\\n",
       "2  Less than half the time, but at least one day ...   \n",
       "4                                              Never   \n",
       "7  All or almost all the time (I'm full-time remote)   \n",
       "8  Less than half the time, but at least one day ...   \n",
       "9                                   It's complicated   \n",
       "\n",
       "                CompanySize  ... StackOverflowMakeMoney Gender  \\\n",
       "2  10,000 or more employees  ...               Disagree   Male   \n",
       "4        10 to 19 employees  ...                    NaN    NaN   \n",
       "7   Fewer than 10 employees  ...         Somewhat agree   Male   \n",
       "8  5,000 to 9,999 employees  ...      Strongly disagree   Male   \n",
       "9                       NaN  ...               Disagree   Male   \n",
       "\n",
       "  HighestEducationParents                          Race      SurveyLong  \\\n",
       "2   A professional degree  White or of European descent  Somewhat agree   \n",
       "4                     NaN                           NaN             NaN   \n",
       "7       A master's degree  White or of European descent           Agree   \n",
       "8     A bachelor's degree     Hispanic or Latino/Latina  Somewhat agree   \n",
       "9       A doctoral degree  White or of European descent  Somewhat agree   \n",
       "\n",
       "  QuestionsInteresting QuestionsConfusing InterestedAnswers    Salary  \\\n",
       "2                Agree           Disagree             Agree  113750.0   \n",
       "4                  NaN                NaN               NaN       NaN   \n",
       "7       Somewhat agree           Disagree             Agree       NaN   \n",
       "8       Strongly agree           Disagree    Strongly agree       NaN   \n",
       "9                Agree           Disagree             Agree       NaN   \n",
       "\n",
       "   ExpectedSalary  \n",
       "2             NaN  \n",
       "4             NaN  \n",
       "7             NaN  \n",
       "8             NaN  \n",
       "9             NaN  \n",
       "\n",
       "[5 rows x 154 columns]"
      ]
     },
     "execution_count": 427,
     "metadata": {},
     "output_type": "execute_result"
    }
   ],
   "source": [
    "# I would like to continue with Professional developer first.\n",
    "df_p=df[df.Professional ==\"Professional developer\"]\n",
    "df_p.head()"
   ]
  },
  {
   "cell_type": "code",
   "execution_count": 428,
   "metadata": {},
   "outputs": [
    {
     "data": {
      "text/plain": [
       "'Which of the following do you currently identify as?'"
      ]
     },
     "execution_count": 428,
     "metadata": {},
     "output_type": "execute_result"
    }
   ],
   "source": [
    "def get_description(column_name, schema=schema):\n",
    "\n",
    "    '''\n",
    "    INPUT - schema - pandas dataframe with the schema of the developers survey\n",
    "            column_name - string - the name of the column you would like to know about\n",
    "    OUTPUT - \n",
    "            desc - string - the description of the column\n",
    "    '''\n",
    "    desc = list(schema[schema['Column'] == column_name]['Question'])[0]\n",
    "    return desc\n",
    "\n",
    "\n",
    "get_description(df.columns[145]) # This should return a string of the first column description. I used this function to see complete description. "
   ]
  },
  {
   "cell_type": "markdown",
   "metadata": {},
   "source": [
    "## Model Data and Results for Q1"
   ]
  },
  {
   "cell_type": "markdown",
   "metadata": {},
   "source": [
    "## Q1-) What is the environment of professional developer? I would like to understand working environment, education and diversity around them. \n",
    "\n",
    "I would like to start with Gender distribution."
   ]
  },
  {
   "cell_type": "code",
   "execution_count": 429,
   "metadata": {},
   "outputs": [
    {
     "data": {
      "text/plain": [
       "26120"
      ]
     },
     "execution_count": 429,
     "metadata": {},
     "output_type": "execute_result"
    }
   ],
   "source": [
    "x_g=sum(df_p.Gender.value_counts())\n",
    "x_g\n",
    "\n",
    "# The total number of answer Gender column. Which of the following do you currently identify as?"
   ]
  },
  {
   "cell_type": "code",
   "execution_count": 430,
   "metadata": {},
   "outputs": [
    {
     "data": {
      "text/plain": [
       "Male                                                       90.949464\n",
       "Female                                                      7.052067\n",
       "Other                                                       0.478560\n",
       "Male; Other                                                 0.451761\n",
       "Gender non-conforming                                       0.336907\n",
       "Male; Gender non-conforming                                 0.168453\n",
       "Transgender                                                 0.133997\n",
       "Female; Transgender                                         0.122511\n",
       "Female; Gender non-conforming                               0.080398\n",
       "Male; Female                                                0.049770\n",
       "Male; Female; Transgender; Gender non-conforming; Other     0.042113\n",
       "Transgender; Gender non-conforming                          0.034456\n",
       "Female; Transgender; Gender non-conforming                  0.022971\n",
       "Male; Transgender                                           0.022971\n",
       "Male; Female; Transgender; Gender non-conforming            0.015314\n",
       "Male; Transgender; Gender non-conforming                    0.007657\n",
       "Male; Gender non-conforming; Other                          0.007657\n",
       "Female; Transgender; Other                                  0.003828\n",
       "Male; Transgender; Other                                    0.003828\n",
       "Male; Female; Transgender                                   0.003828\n",
       "Male; Female; Other                                         0.003828\n",
       "Gender non-conforming; Other                                0.003828\n",
       "Transgender; Other                                          0.003828\n",
       "Name: Gender, dtype: float64"
      ]
     },
     "execution_count": 430,
     "metadata": {},
     "output_type": "execute_result"
    },
    {
     "data": {
      "image/png": "[encoded data removed]",
      "text/plain": [
       "<Figure size 432x288 with 1 Axes>"
      ]
     },
     "metadata": {
      "needs_background": "light"
     },
     "output_type": "display_data"
    }
   ],
   "source": [
    "g_vals = df_p.Gender.value_counts()#Provide a pandas series of the counts for each status\n",
    "\n",
    "(100*g_vals[:2]/(x_g)).plot(kind=\"bar\") # I will show the most answered status on graph.\n",
    "plt.title(\"Define population - Gender Distribution?\");\n",
    "(g_vals/x_g)*100 # percentage over non-null values"
   ]
  },
  {
   "cell_type": "markdown",
   "metadata": {},
   "source": [
    "Next question is about the distribution of Major Undergrad?"
   ]
  },
  {
   "cell_type": "code",
   "execution_count": 431,
   "metadata": {},
   "outputs": [
    {
     "data": {
      "text/plain": [
       "32958"
      ]
     },
     "execution_count": 431,
     "metadata": {},
     "output_type": "execute_result"
    }
   ],
   "source": [
    "x_mu=sum(df_p.MajorUndergrad.value_counts())\n",
    "x_mu"
   ]
  },
  {
   "cell_type": "code",
   "execution_count": 432,
   "metadata": {},
   "outputs": [
    {
     "data": {
      "text/plain": [
       "Computer science or software engineering                        54.196250\n",
       "Computer engineering or electrical/electronics engineering      10.018812\n",
       "Computer programming or Web development                          9.096426\n",
       "Information technology, networking, or system administration     4.347958\n",
       "A non-computer-focused engineering discipline                    3.616724\n",
       "A natural science                                                3.522665\n",
       "Mathematics or statistics                                        3.398264\n",
       "Something else                                                   2.129984\n",
       "A humanities discipline                                          1.914558\n",
       "A business discipline                                            1.714303\n",
       "Fine arts or performing arts                                     1.450331\n",
       "Management information systems                                   1.432126\n",
       "I never declared a major                                         1.292554\n",
       "A social science                                                 1.250076\n",
       "Psychology                                                       0.418715\n",
       "A health science                                                 0.200255\n",
       "Name: MajorUndergrad, dtype: float64"
      ]
     },
     "execution_count": 432,
     "metadata": {},
     "output_type": "execute_result"
    },
    {
     "data": {
      "image/png": "[encoded data removed]",
      "text/plain": [
       "<Figure size 432x288 with 1 Axes>"
      ]
     },
     "metadata": {
      "needs_background": "light"
     },
     "output_type": "display_data"
    }
   ],
   "source": [
    "mu_vals = df_p.MajorUndergrad.value_counts()#Provide a pandas series of the counts for each status\n",
    "\n",
    "(100*mu_vals[:3]/(x_mu)).plot(kind=\"bar\")\n",
    "plt.title(\"Define population - Major Distribution?\");\n",
    "(mu_vals/x_mu)*100 # percentage over non-null values"
   ]
  },
  {
   "cell_type": "markdown",
   "metadata": {},
   "source": [
    "Next question is about the distribution of Formal Education?"
   ]
  },
  {
   "cell_type": "code",
   "execution_count": 433,
   "metadata": {},
   "outputs": [
    {
     "data": {
      "text/plain": [
       "36131"
      ]
     },
     "execution_count": 433,
     "metadata": {},
     "output_type": "execute_result"
    }
   ],
   "source": [
    "x_fe=sum(df_p.FormalEducation.value_counts())\n",
    "x_fe"
   ]
  },
  {
   "cell_type": "code",
   "execution_count": 434,
   "metadata": {},
   "outputs": [
    {
     "data": {
      "text/plain": [
       "Bachelor's degree                                                    47.853644\n",
       "Master's degree                                                      24.862307\n",
       "Some college/university study without earning a bachelor's degree    14.917938\n",
       "Secondary school                                                      6.310371\n",
       "Doctoral degree                                                       2.189256\n",
       "Professional degree                                                   1.502865\n",
       "I prefer not to answer                                                1.076638\n",
       "I never completed any formal education                                0.722371\n",
       "Primary/elementary school                                             0.564612\n",
       "Name: FormalEducation, dtype: float64"
      ]
     },
     "execution_count": 434,
     "metadata": {},
     "output_type": "execute_result"
    },
    {
     "data": {
      "image/png": "[encoded data removed]",
      "text/plain": [
       "<Figure size 432x288 with 1 Axes>"
      ]
     },
     "metadata": {
      "needs_background": "light"
     },
     "output_type": "display_data"
    }
   ],
   "source": [
    "fe_vals = df_p.FormalEducation.value_counts()#Provide a pandas series of the counts for each status\n",
    "\n",
    "(100*fe_vals[:4]/(x_fe)).plot(kind=\"bar\")\n",
    "plt.title(\"Define population - Degree of Education?\");\n",
    "(fe_vals/x_fe)*100 # percentage over non-null values"
   ]
  },
  {
   "cell_type": "markdown",
   "metadata": {},
   "source": [
    "Next question is about the working conditions?"
   ]
  },
  {
   "cell_type": "code",
   "execution_count": 435,
   "metadata": {},
   "outputs": [
    {
     "data": {
      "text/plain": [
       "35282"
      ]
     },
     "execution_count": 435,
     "metadata": {},
     "output_type": "execute_result"
    }
   ],
   "source": [
    "x_hr=sum(df_p.HomeRemote.value_counts())\n",
    "x_hr"
   ]
  },
  {
   "cell_type": "code",
   "execution_count": 436,
   "metadata": {},
   "outputs": [
    {
     "data": {
      "text/plain": [
       "A few days each month                                      36.627742\n",
       "Never                                                      31.696049\n",
       "All or almost all the time (I'm full-time remote)          10.991440\n",
       "Less than half the time, but at least one day each week     9.217165\n",
       "It's complicated                                            4.353495\n",
       "More than half, but not all, the time                       3.727113\n",
       "About half the time                                         3.386996\n",
       "Name: HomeRemote, dtype: float64"
      ]
     },
     "execution_count": 436,
     "metadata": {},
     "output_type": "execute_result"
    },
    {
     "data": {
      "image/png": "[encoded data removed]",
      "text/plain": [
       "<Figure size 432x288 with 1 Axes>"
      ]
     },
     "metadata": {
      "needs_background": "light"
     },
     "output_type": "display_data"
    }
   ],
   "source": [
    "hr_vals = df_p.HomeRemote.value_counts()#Provide a pandas series of the counts for each status\n",
    "\n",
    "(100*hr_vals[:4]/(x_hr)).plot(kind=\"bar\")\n",
    "plt.title(\"Define population - Remote Work?\");\n",
    "(hr_vals/x_hr)*100 # percentage over non-null values"
   ]
  },
  {
   "cell_type": "markdown",
   "metadata": {},
   "source": [
    "Another diversity information about the race to be used for my 1st question."
   ]
  },
  {
   "cell_type": "code",
   "execution_count": 437,
   "metadata": {},
   "outputs": [
    {
     "data": {
      "text/plain": [
       "24652"
      ]
     },
     "execution_count": 437,
     "metadata": {},
     "output_type": "execute_result"
    }
   ],
   "source": [
    "x_r=sum(df_p.Race.value_counts())\n",
    "x_r"
   ]
  },
  {
   "cell_type": "code",
   "execution_count": 438,
   "metadata": {},
   "outputs": [
    {
     "data": {
      "text/plain": [
       "White or of European descent                                                                                           72.712153\n",
       "South Asian                                                                                                             7.601817\n",
       "Hispanic or Latino/Latina                                                                                               4.040240\n",
       "East Asian                                                                                                              3.439883\n",
       "Middle Eastern                                                                                                          2.575856\n",
       "                                                                                                                         ...    \n",
       "Middle Eastern; White or of European descent; I don’t know; I prefer not to say                                         0.004056\n",
       "Black or of African descent; Hispanic or Latino/Latina; Native American, Pacific Islander, or Indigenous Australian     0.004056\n",
       "Black or of African descent; East Asian; Hispanic or Latino/Latina; Middle Eastern; White or of European descent        0.004056\n",
       "Black or of African descent; I prefer not to say                                                                        0.004056\n",
       "Black or of African descent; I don’t know; I prefer not to say                                                          0.004056\n",
       "Name: Race, Length: 73, dtype: float64"
      ]
     },
     "execution_count": 438,
     "metadata": {},
     "output_type": "execute_result"
    },
    {
     "data": {
      "image/png": "[encoded data removed]",
      "text/plain": [
       "<Figure size 432x288 with 1 Axes>"
      ]
     },
     "metadata": {
      "needs_background": "light"
     },
     "output_type": "display_data"
    }
   ],
   "source": [
    "r_vals = df_p.Race.value_counts()#Provide a pandas series of the counts for each status\n",
    "\n",
    "(100*r_vals[:5]/(x_r)).plot(kind=\"bar\")\n",
    "plt.title(\"Define population - Race Distribution?\");\n",
    "(r_vals/x_r)*100 # percentage over non-null values"
   ]
  },
  {
   "cell_type": "markdown",
   "metadata": {},
   "source": [
    "I would like to understand their employment status to interiorize professional developer."
   ]
  },
  {
   "cell_type": "code",
   "execution_count": 439,
   "metadata": {},
   "outputs": [
    {
     "data": {
      "text/plain": [
       "36131"
      ]
     },
     "execution_count": 439,
     "metadata": {},
     "output_type": "execute_result"
    }
   ],
   "source": [
    "x_es=sum(df_p.EmploymentStatus.value_counts())\n",
    "x_es"
   ]
  },
  {
   "cell_type": "code",
   "execution_count": 440,
   "metadata": {},
   "outputs": [
    {
     "data": {
      "text/plain": [
       "Employed full-time                                      83.615178\n",
       "Independent contractor, freelancer, or self-employed    10.215604\n",
       "Employed part-time                                       3.941214\n",
       "Not employed, but looking for work                       1.286983\n",
       "I prefer not to say                                      0.531400\n",
       "Not employed, and not looking for work                   0.340428\n",
       "Retired                                                  0.069193\n",
       "Name: EmploymentStatus, dtype: float64"
      ]
     },
     "execution_count": 440,
     "metadata": {},
     "output_type": "execute_result"
    },
    {
     "data": {
      "image/png": "[encoded data removed]",
      "text/plain": [
       "<Figure size 432x288 with 1 Axes>"
      ]
     },
     "metadata": {
      "needs_background": "light"
     },
     "output_type": "display_data"
    }
   ],
   "source": [
    "es_vals = df_p.EmploymentStatus.value_counts()#Provide a pandas series of the counts for each status\n",
    "\n",
    "(100*es_vals[:4]/(x_es)).plot(kind=\"bar\")\n",
    "plt.title(\"Define population - Employment Status?\");\n",
    "(es_vals/x_es)*100 # percentage over non-null values"
   ]
  },
  {
   "cell_type": "markdown",
   "metadata": {},
   "source": [
    "To understand their experience also gives me clues."
   ]
  },
  {
   "cell_type": "code",
   "execution_count": 441,
   "metadata": {},
   "outputs": [
    {
     "data": {
      "text/plain": [
       "35983"
      ]
     },
     "execution_count": 441,
     "metadata": {},
     "output_type": "execute_result"
    }
   ],
   "source": [
    "x_yp=sum(df_p.YearsProgram.value_counts())\n",
    "x_yp"
   ]
  },
  {
   "cell_type": "code",
   "execution_count": 442,
   "metadata": {},
   "outputs": [],
   "source": [
    "df_p.loc[:, 'YearsProgram'].replace( {'Less than a year' : '0-5 years',\n",
    "                '1 to 2 years' : '0-5 years', \n",
    "                '2 to 3 years' : '0-5 years',\n",
    "                '3 to 4 years' : '0-5 years', \n",
    "                '4 to 5 years' : '0-5 years', \n",
    "                '5 to 6 years' : '6-10 years', \n",
    "                '6 to 7 years' : '6-10 years', \n",
    "                '7 to 8 years' : '6-10 years', \n",
    "                '8 to 9 years' : '6-10 years', \n",
    "                '9 to 10 years' : '6-10 years',\n",
    "                '10 to 11 years' : '11-15 years', \n",
    "                '11 to 12 years' : '11-15 years', \n",
    "                '12 to 13 years' : '11-15 years',\n",
    "                '13 to 14 years' : '11-15 years', \n",
    "                '14 to 15 years' : '11-15 years', \n",
    "                '15 to 16 years' : '16-20 years', \n",
    "                '16 to 17 years' : '16-20 years',\n",
    "                '17 to 18 years' : '16-20 years', \n",
    "                '18 to 19 years' : '16-20 years', \n",
    "                '19 to 20 years' : '16-20 years', \n",
    "                '20 or more years' : '20+ years'}, inplace=True)"
   ]
  },
  {
   "cell_type": "code",
   "execution_count": 443,
   "metadata": {},
   "outputs": [
    {
     "data": {
      "text/plain": [
       "2          20+ years\n",
       "4          20+ years\n",
       "7        11-15 years\n",
       "8        11-15 years\n",
       "9        11-15 years\n",
       "            ...     \n",
       "51384    16-20 years\n",
       "51386     6-10 years\n",
       "51387     6-10 years\n",
       "51389      0-5 years\n",
       "51390    16-20 years\n",
       "Name: YearsProgram, Length: 36131, dtype: object"
      ]
     },
     "execution_count": 443,
     "metadata": {},
     "output_type": "execute_result"
    }
   ],
   "source": [
    "df_p.YearsProgram"
   ]
  },
  {
   "cell_type": "code",
   "execution_count": 446,
   "metadata": {},
   "outputs": [
    {
     "data": {
      "text/plain": [
       "6-10 years     29.102632\n",
       "20+ years      20.334602\n",
       "0-5 years      19.042326\n",
       "11-15 years    18.883917\n",
       "16-20 years    12.636523\n",
       "Name: YearsProgram, dtype: float64"
      ]
     },
     "execution_count": 446,
     "metadata": {},
     "output_type": "execute_result"
    },
    {
     "data": {
      "image/png": "[encoded data removed]",
      "text/plain": [
       "<Figure size 432x288 with 1 Axes>"
      ]
     },
     "metadata": {
      "needs_background": "light"
     },
     "output_type": "display_data"
    }
   ],
   "source": [
    "yp_vals = df_p.YearsProgram.value_counts()#Provide a pandas series of the counts for each status\n",
    "e_order = [\"0-5 years\", \"6-10 years\", \"11-15 years\", \"16-20 years\", \"20+ years\"]\n",
    "\n",
    "(100*yp_vals[:5]/(x_yp)).loc[e_order].plot(kind=\"bar\")\n",
    "plt.title(\"Define population - years since first learned programming?\");\n",
    "(yp_vals/x_yp)*100 # percentage over non-null values"
   ]
  },
  {
   "cell_type": "markdown",
   "metadata": {},
   "source": [
    "# Results of Q1\n",
    "\n",
    "## In the first question, I would like to understand the general environment of a professional developer. I checked 7 attributes.\n",
    "### Gender\n",
    "%91 of the professional developer is male so we can easily say that female representation is really low when we compared other industries*.\n",
    "Ref: https://business.linkedin.com/talent-solutions/blog/2014/03/women-in-engineering-the-sobering-stats\n",
    "\n",
    "### Major Undergrad\n",
    "%77 of the respondents has a major degree computer science/programming or related fields. I think hiring opportunity of other degrees is quiet high. And according to the related articles* there is a huge gap between graduted students with related fields and computing jobs. So if you start a compuer programming related job, most possibly you will be working with a collegue you cannot guess his/her major degree.\n",
    "Ref: https://learntocodewith.me/posts/become-a-software-engineer/\n",
    "\n",
    "### Formal Education Degree\n",
    "\n",
    "%74 of the respondent have bachelor or higher degree. For example in mechanical engineering perspective, it will be nearly %0 to see any colleague that has not any bachelor degree. It is a common thing to be a developer without bachelor degree.\n",
    "\n",
    "### Remote work\n",
    "%65 of the respondent have a 1 day to full remote work chance. It is again suprising results for anorher industries especially before covid-19. %11 of the respondent work as fully remote.\n",
    "\n",
    "### Race \n",
    "%73 of the respondents identifies themselves as 'White or of European descent' and then nearly %10 Asian in total follows. So it seems that there is an inequal distribution across the world. It is suprising that Asia countries has a big improvement in the last 5 years period however developer quantity is very low.\n",
    "\n",
    "### Employment Status\n",
    " Fully employment gets the highest score as expected. On the other hand, I think comparatively huge part-time or self employed workers are hired in that industry. Unemployment rate is negligible. \n",
    " \n",
    "### Experience\n",
    "6 to 10 years experience gets the highest density. I was expecting to see an downtrend while experience getting higher because the developer demand getting higher each year and to fılfill this demand lots of learning and career opportunities are provided during the last decades. I think the density of 0-5 years experience should be the highest but during the first years of being developer may be awarenes of survey will not enough as higher experience. \n",
    "\n",
    "## In conclusion, \n",
    "If I need to guess my first day as a software developer, most possibly my team will be dominated by men and White or of European descent colleagues. There can be some non-bachelor degree colleagues and some of them will work as remotely in that day so I could not meet them. The distribution of expertise is dominated by 5+ years so I can learn them lots of information.  \n"
   ]
  },
  {
   "cell_type": "markdown",
   "metadata": {},
   "source": [
    "## Model Data and Results for Q2"
   ]
  },
  {
   "cell_type": "markdown",
   "metadata": {},
   "source": [
    "## Q2-) Is there a correlation between diversity of their environment and their thinking about the importance of diversity across the world? I would like to understand their view to diversity and show the similarities and differences between other cultures?\n",
    "  "
   ]
  },
  {
   "cell_type": "code",
   "execution_count": 324,
   "metadata": {},
   "outputs": [
    {
     "data": {
      "text/plain": [
       "22532"
      ]
     },
     "execution_count": 324,
     "metadata": {},
     "output_type": "execute_result"
    }
   ],
   "source": [
    "x_di=sum(df_p.DiversityImportant.value_counts())\n",
    "x_di"
   ]
  },
  {
   "cell_type": "code",
   "execution_count": 375,
   "metadata": {},
   "outputs": [
    {
     "data": {
      "text/plain": [
       "Agree                38.838097\n",
       "Strongly agree       26.238239\n",
       "Somewhat agree       23.459968\n",
       "Disagree              7.793361\n",
       "Strongly disagree     3.670336\n",
       "Name: DiversityImportant, dtype: float64"
      ]
     },
     "execution_count": 375,
     "metadata": {},
     "output_type": "execute_result"
    },
    {
     "data": {
      "image/png": "[encoded data removed]",
      "text/plain": [
       "<Figure size 1440x576 with 1 Axes>"
      ]
     },
     "metadata": {
      "needs_background": "light"
     },
     "output_type": "display_data"
    }
   ],
   "source": [
    "di_vals = df_p.DiversityImportant.value_counts()#Provide a pandas series of the counts for each status\n",
    "r_order = [\"Strongly agree\", \"Agree\", \"Somewhat agree\", \"Disagree\", \"Strongly disagree\"]\n",
    "\n",
    "\n",
    "(100*di_vals[:5]/(x_di)).loc[r_order].plot(kind=\"bar\")\n",
    "\n",
    "plt.title(\"Define population - Diversity Importance?\");\n",
    "(di_vals/x_di)*100 # percentage over non-null values\n",
    "\n",
    "#r_order = [\"Strongly agree\", \"Agree\", \"Somewhat agree\", \"Disagree\", \"Strongly disagree\"]\n",
    "#sns.countplot(x = \"Day\", data = di_vals, order = r_order)"
   ]
  },
  {
   "cell_type": "code",
   "execution_count": 327,
   "metadata": {},
   "outputs": [
    {
     "data": {
      "text/plain": [
       "36131"
      ]
     },
     "execution_count": 327,
     "metadata": {},
     "output_type": "execute_result"
    }
   ],
   "source": [
    "x_country=sum(df_p.Country.value_counts())\n",
    "x_country"
   ]
  },
  {
   "cell_type": "markdown",
   "metadata": {},
   "source": [
    "I would like to see the top 10 country and I will select different countries that have different culture to see is there a correlation on diversity and thinking about the importance of diversity."
   ]
  },
  {
   "cell_type": "code",
   "execution_count": 328,
   "metadata": {},
   "outputs": [
    {
     "data": {
      "text/plain": [
       "United States          22.999640\n",
       "India                   9.515375\n",
       "United Kingdom          9.138967\n",
       "Germany                 7.658244\n",
       "Canada                  4.442169\n",
       "                         ...    \n",
       "Somalia                 0.002768\n",
       "Guam                    0.002768\n",
       "French Guyana           0.002768\n",
       "Cayman Islands          0.002768\n",
       "Antigua and Barbuda     0.002768\n",
       "Name: Country, Length: 182, dtype: float64"
      ]
     },
     "execution_count": 328,
     "metadata": {},
     "output_type": "execute_result"
    },
    {
     "data": {
      "image/png": "[encoded data removed]",
      "text/plain": [
       "<Figure size 432x288 with 1 Axes>"
      ]
     },
     "metadata": {
      "needs_background": "light"
     },
     "output_type": "display_data"
    }
   ],
   "source": [
    "count_vals = df_p.Country.value_counts()#Provide a pandas series of the counts for each Country\n",
    "\n",
    "# The below should be a bar chart of the proportion of the top 10 countries for the\n",
    "# individuals in your count_vals if it is set up correctly.\n",
    "\n",
    "(100*count_vals[:10]/x_country).plot(kind=\"bar\");\n",
    "plt.title(\"Country\");\n",
    "(count_vals/x_country)*100"
   ]
  },
  {
   "cell_type": "markdown",
   "metadata": {},
   "source": [
    "I select 4 different countries that I think they have different cultures. United States, India, Germany and Russian Federation."
   ]
  },
  {
   "cell_type": "code",
   "execution_count": 329,
   "metadata": {},
   "outputs": [
    {
     "data": {
      "text/plain": [
       "United States          8310\n",
       "India                  3438\n",
       "United Kingdom         3302\n",
       "Germany                2767\n",
       "Canada                 1605\n",
       "                       ... \n",
       "Somalia                   1\n",
       "Guam                      1\n",
       "French Guyana             1\n",
       "Cayman Islands            1\n",
       "Antigua and Barbuda       1\n",
       "Name: Country, Length: 182, dtype: int64"
      ]
     },
     "execution_count": 329,
     "metadata": {},
     "output_type": "execute_result"
    }
   ],
   "source": [
    "count_vals"
   ]
  },
  {
   "cell_type": "markdown",
   "metadata": {},
   "source": [
    "The 7 cell above is to get an understanding about the data. So I did not delete but only blocked."
   ]
  },
  {
   "cell_type": "code",
   "execution_count": 447,
   "metadata": {},
   "outputs": [],
   "source": [
    "#x1=pd.DataFrame(df.query(\"Professional == 'Professional developer' and Country == 'United States' and (Gender == 'Male' or Gender == 'Female') and (MajorUndergrad == 'Computer science or software engineering' or MajorUndergrad == 'Computer engineering or electrical/electronics engineering' or MajorUndergrad == 'Computer programming or Web development' or MajorUndergrad == 'Information technology, networking, or system administration' ) and (FormalEducation == 'Doctoral degree')  \").groupby(['Country', 'Gender', 'FormalEducation', 'MajorUndergrad','EmploymentStatus']).count()['Salary'])\n",
    "#x1"
   ]
  },
  {
   "cell_type": "code",
   "execution_count": 448,
   "metadata": {},
   "outputs": [],
   "source": [
    "#x2=pd.DataFrame(df_p.query(\"Professional == 'Professional developer' and (Country == 'United States' or Country == 'India' or Country == 'Germany' or Country == 'Russian Federation') and (Gender == 'Male' or Gender == 'Female')\").groupby(['Country', 'Gender']).count()['Respondent'])\n",
    "#x2"
   ]
  },
  {
   "cell_type": "code",
   "execution_count": 449,
   "metadata": {},
   "outputs": [],
   "source": [
    "#x2.plot(kind=\"bar\");"
   ]
  },
  {
   "cell_type": "code",
   "execution_count": 450,
   "metadata": {},
   "outputs": [],
   "source": [
    "#x3=pd.DataFrame(df.query(\"Professional == 'Professional developer' and (Country == 'United States' or Country == 'India' or Country == 'Germany' or Country == 'Russian Federation') and (Gender == 'Male' or Gender == 'Female')\").groupby(['Country', 'Gender']).count()['Respondent'])\n",
    "#x3"
   ]
  },
  {
   "cell_type": "code",
   "execution_count": 451,
   "metadata": {},
   "outputs": [],
   "source": [
    "#x3=pd.DataFrame(df_p.query(\"Professional == 'Professional developer' and (Country == 'United States' or Country == 'India' or Country == 'Germany' or Country == 'Russian Federation') and (Race == 'White or of European descent' or Race == 'South Asian' or Race == 'Hispanic or Latino/Latina' or Race== 'Middle Eastern')\").groupby(['Country', 'Race']).count()['Respondent'])\n",
    "#x3"
   ]
  },
  {
   "cell_type": "code",
   "execution_count": 452,
   "metadata": {},
   "outputs": [],
   "source": [
    "#x3=pd.DataFrame(df_p.query(\"Professional == 'Professional developer' and (Country == 'United States' or Country == 'India' or Country == 'Germany' or Country == 'Russian Federation')\").groupby(['Country', 'DiversityImportant']).count()['Respondent'])\n",
    "#x3"
   ]
  },
  {
   "cell_type": "code",
   "execution_count": 453,
   "metadata": {},
   "outputs": [],
   "source": [
    "#x3=pd.DataFrame(df_p.query(\"Professional == 'Professional developer' and (Country == 'Russian Federation') and (Race != 'I prefer not to say')\").groupby(['Country', 'Race']).count()['Respondent'])\n",
    "#x3"
   ]
  },
  {
   "cell_type": "markdown",
   "metadata": {},
   "source": [
    "Lets start to check different countries on diversity figures(race and gender) and thinking about the importance of diversity."
   ]
  },
  {
   "cell_type": "code",
   "execution_count": 456,
   "metadata": {},
   "outputs": [],
   "source": [
    "# Russian Federation\n",
    "xRF_total=(df_p.query(\"Professional == 'Professional developer' and (Country == 'Russian Federation') and (Race != 'I prefer not to say')\").count()['Race'])-4\n",
    "xRF_race=(df_p.query(\"Professional == 'Professional developer' and (Country == 'Russian Federation') and (Race == 'White or of European descent')\").count()['Race'])\n",
    "xRF_perc=100*(xRF_total-xRF_race)/xRF_total\n",
    "\n",
    "xRF2_total=(df_p.query(\"Professional == 'Professional developer' and (Country == 'Russian Federation') and (Gender == 'Male' or Gender =='Female')\").count()['Gender'])\n",
    "xRF2_gender=(df_p.query(\"Professional == 'Professional developer' and (Country == 'Russian Federation') and (Gender == 'Male')\").count()['Gender'])\n",
    "xRF2_perc=100*(xRF2_total-xRF2_gender)/xRF2_total\n",
    "\n",
    "xRF3_total=(df_p.query(\"Professional == 'Professional developer' and (Country == 'Russian Federation')\").count()['DiversityImportant'])\n",
    "xRF3_div=(df_p.query(\"Professional == 'Professional developer' and (Country == 'Russian Federation') and (DiversityImportant == 'Agree' or DiversityImportant =='Strongly agree')\").count()['DiversityImportant'])\n",
    "xRF3_perc=100*(xRF3_div)/xRF3_total\n"
   ]
  },
  {
   "cell_type": "code",
   "execution_count": 457,
   "metadata": {},
   "outputs": [
    {
     "data": {
      "text/plain": [
       "['Russian Federation',\n",
       " 416,\n",
       " 401,\n",
       " 3.605769230769231,\n",
       " 5.63063063063063,\n",
       " 36.47642679900744]"
      ]
     },
     "execution_count": 457,
     "metadata": {},
     "output_type": "execute_result"
    }
   ],
   "source": [
    "xRF=['Russian Federation', xRF_total,xRF_race,xRF_perc,xRF2_perc,xRF3_perc]\n",
    "xRF"
   ]
  },
  {
   "cell_type": "code",
   "execution_count": 458,
   "metadata": {},
   "outputs": [],
   "source": [
    "# Germany\n",
    "xGE_total=(df_p.query(\"Professional == 'Professional developer' and (Country == 'Germany') and (Race != 'I prefer not to say')\").count()['Race'])-17\n",
    "xGE_race=(df_p.query(\"Professional == 'Professional developer' and (Country == 'Germany') and (Race == 'White or of European descent')\").count()['Respondent'])\n",
    "xGE_perc=100*(xGE_total-xGE_race)/xGE_total\n",
    "\n",
    "xGE2_total=(df_p.query(\"Professional == 'Professional developer' and (Country == 'Germany') and (Gender == 'Male' or Gender =='Female')\").count()['Gender'])\n",
    "xGE2_gender=(df_p.query(\"Professional == 'Professional developer' and (Country == 'Germany') and (Gender == 'Male')\").count()['Gender'])\n",
    "xGE2_perc=100*(xGE2_total-xGE2_gender)/xGE2_total\n",
    "\n",
    "xGE3_total=(df_p.query(\"Professional == 'Professional developer' and (Country == 'Germany')\").count()['DiversityImportant'])\n",
    "xGE3_div=(df_p.query(\"Professional == 'Professional developer' and (Country == 'Germany') and (DiversityImportant == 'Agree' or DiversityImportant =='Strongly agree')\").count()['DiversityImportant'])\n",
    "xGE3_perc=100*(xGE3_div)/xGE3_total\n"
   ]
  },
  {
   "cell_type": "code",
   "execution_count": 459,
   "metadata": {},
   "outputs": [
    {
     "data": {
      "text/plain": [
       "['Germany',\n",
       " 1927,\n",
       " 1789,\n",
       " 7.161390762843799,\n",
       " 5.219103889709503,\n",
       " 64.72663139329806]"
      ]
     },
     "execution_count": 459,
     "metadata": {},
     "output_type": "execute_result"
    }
   ],
   "source": [
    "xGE=['Germany',xGE_total,xGE_race,xGE_perc,xGE2_perc,xGE3_perc]\n",
    "xGE"
   ]
  },
  {
   "cell_type": "code",
   "execution_count": 460,
   "metadata": {},
   "outputs": [],
   "source": [
    "# India\n",
    "xIN_total=(df_p.query(\"Professional == 'Professional developer' and (Country == 'India') and (Race != 'I prefer not to say')\").count()['Race'])-140\n",
    "xIN_race=(df_p.query(\"Professional == 'Professional developer' and (Country == 'India') and (Race == 'South Asian')\").count()['Respondent'])\n",
    "\n",
    "xIN_perc=100*(xIN_total-xIN_race)/xIN_total\n",
    "\n",
    "xIN2_total=(df_p.query(\"Professional == 'Professional developer' and (Country == 'India') and (Gender == 'Male' or Gender =='Female')\").count()['Gender'])\n",
    "xIN2_gender=(df_p.query(\"Professional == 'Professional developer' and (Country == 'India') and (Gender == 'Male')\").count()['Gender'])\n",
    "xIN2_perc=100*(xIN2_total-xIN2_gender)/xIN2_total\n",
    "\n",
    "xIN3_total=(df_p.query(\"Professional == 'Professional developer' and (Country == 'India')\").count()['DiversityImportant'])\n",
    "xIN3_div=(df_p.query(\"Professional == 'Professional developer' and (Country == 'India') and (DiversityImportant == 'Agree' or DiversityImportant =='Strongly agree')\").count()['DiversityImportant'])\n",
    "xIN3_perc=100*(xIN3_div)/xIN3_total\n"
   ]
  },
  {
   "cell_type": "code",
   "execution_count": 461,
   "metadata": {},
   "outputs": [
    {
     "data": {
      "text/plain": [
       "['India', 1195, 1035, 13.389121338912133, 8.387445887445887, 76.32296781232951]"
      ]
     },
     "execution_count": 461,
     "metadata": {},
     "output_type": "execute_result"
    }
   ],
   "source": [
    "xIN=['India',xIN_total,xIN_race,xIN_perc,xIN2_perc,xIN3_perc]\n",
    "xIN"
   ]
  },
  {
   "cell_type": "code",
   "execution_count": 462,
   "metadata": {},
   "outputs": [],
   "source": [
    "# United States\n",
    "xUS_total=(df_p.query(\"Professional == 'Professional developer' and (Country == 'United States') and (Race != 'I prefer not to say')\").count()['Race'])-21\n",
    "xUS_race=(df_p.query(\"Professional == 'Professional developer' and (Country == 'United States') and (Race == 'White or of European descent' or Race =='Black or of African descent')\").count()['Respondent'])\n",
    "\n",
    "xUS_perc=100*(xUS_total-xUS_race)/xUS_total\n",
    "\n",
    "xUS2_total=(df_p.query(\"Professional == 'Professional developer' and (Country == 'United States') and (Gender == 'Male' or Gender =='Female')\").count()['Gender'])\n",
    "xUS2_gender=(df_p.query(\"Professional == 'Professional developer' and (Country == 'United States') and (Gender == 'Male')\").count()['Gender'])\n",
    "xUS2_perc=100*(xUS2_total-xUS2_gender)/xUS2_total\n",
    "\n",
    "xUS3_total=(df_p.query(\"Professional == 'Professional developer' and (Country == 'United States')\").count()['DiversityImportant'])\n",
    "xUS3_div=(df_p.query(\"Professional == 'Professional developer' and (Country == 'United States') and (DiversityImportant == 'Agree' or DiversityImportant =='Strongly agree')\").count()['DiversityImportant'])\n",
    "xUS3_perc=100*(xUS3_div)/xUS3_total\n"
   ]
  },
  {
   "cell_type": "code",
   "execution_count": 463,
   "metadata": {},
   "outputs": [
    {
     "data": {
      "text/plain": [
       "['United States',\n",
       " 6182,\n",
       " 5178,\n",
       " 16.240698802976382,\n",
       " 9.979601443590147,\n",
       " 64.11319394376352]"
      ]
     },
     "execution_count": 463,
     "metadata": {},
     "output_type": "execute_result"
    }
   ],
   "source": [
    "xUS=['United States',xUS_total,xUS_race,xUS_perc,xUS2_perc,xUS3_perc]\n",
    "xUS"
   ]
  },
  {
   "cell_type": "code",
   "execution_count": 464,
   "metadata": {},
   "outputs": [
    {
     "name": "stdout",
     "output_type": "stream",
     "text": [
      "                    0        1        2              3\n",
      "0  Russian Federation  Germany    India  United States\n",
      "1                 416     1927     1195           6182\n",
      "2                 401     1789     1035           5178\n",
      "3             3.60577  7.16139  13.3891        16.2407\n",
      "4             5.63063   5.2191  8.38745         9.9796\n",
      "5             36.4764  64.7266   76.323        64.1132\n"
     ]
    }
   ],
   "source": [
    "Q2 = pd.DataFrame(list(zip(xRF, xGE,xIN,xUS))) # construct a matrix to check easily.\n",
    "print(team)"
   ]
  },
  {
   "cell_type": "code",
   "execution_count": 465,
   "metadata": {},
   "outputs": [
    {
     "name": "stdout",
     "output_type": "stream",
     "text": [
      "                    0     1     2        3        4        5\n",
      "0  Russian Federation   416   401  3.60577  5.63063  36.4764\n",
      "1             Germany  1927  1789  7.16139   5.2191  64.7266\n",
      "2               India  1195  1035  13.3891  8.38745   76.323\n",
      "3       United States  6182  5178  16.2407   9.9796  64.1132\n"
     ]
    }
   ],
   "source": [
    "Q2 = Q2.transpose()\n",
    "print(Q2)"
   ]
  },
  {
   "cell_type": "code",
   "execution_count": 466,
   "metadata": {},
   "outputs": [
    {
     "name": "stdout",
     "output_type": "stream",
     "text": [
      "              Country Respondent Selected ratio_of_other_races  \\\n",
      "0  Russian Federation        416      401              3.60577   \n",
      "1             Germany       1927     1789              7.16139   \n",
      "2               India       1195     1035              13.3891   \n",
      "3       United States       6182     5178              16.2407   \n",
      "\n",
      "  ratio_of_female DiversityImportant  \n",
      "0         5.63063            36.4764  \n",
      "1          5.2191            64.7266  \n",
      "2         8.38745             76.323  \n",
      "3          9.9796            64.1132  \n"
     ]
    }
   ],
   "source": [
    "Q2.columns =['Country', 'Respondent', 'Selected', 'ratio_of_other_races','ratio_of_female','DiversityImportant'] # add column name\n",
    "print(Q2)"
   ]
  },
  {
   "cell_type": "code",
   "execution_count": 467,
   "metadata": {},
   "outputs": [],
   "source": [
    "Q2=Q2.drop(['Respondent','Selected'],axis=1)"
   ]
  },
  {
   "cell_type": "code",
   "execution_count": 470,
   "metadata": {},
   "outputs": [
    {
     "data": {
      "image/png": "[encoded data removed]",
      "text/plain": [
       "<Figure size 720x576 with 1 Axes>"
      ]
     },
     "metadata": {
      "needs_background": "light"
     },
     "output_type": "display_data"
    }
   ],
   "source": [
    "# Plot to see the results\n",
    "Q2.plot(kind=\"bar\", x='Country')\n",
    "\n",
    "plt.xlabel(\"Countries\")\n",
    "plt.ylabel(\"Percentage\");\n",
    "plt.title('Diversity approach')\n",
    "fig_size = plt.rcParams[\"figure.figsize\"]\n",
    "fig_size[0] = 15\n",
    "fig_size[1] = 12\n",
    "plt.rcParams[\"figure.figsize\"] = fig_size"
   ]
  },
  {
   "cell_type": "markdown",
   "metadata": {},
   "source": [
    "# Results of Q2\n",
    "\n",
    "## In the second question, I would like to understand the correlation between diversity of current environment and the importance of diversity in their mind. \n",
    "\n",
    "I select 4 countries to check the correlation. It can be seen that for above graph, there is a upward trend if the female and other races distribution is getting higher then the mindset aaboout the importance of diversity is getting higher. Only India's DiversityImportant score is higher than US but we check only 3 parameters for this correlation and alos other social, political and economic aspects can affect the results."
   ]
  },
  {
   "cell_type": "markdown",
   "metadata": {},
   "source": [
    "## Model Data and Results for Q3"
   ]
  },
  {
   "cell_type": "markdown",
   "metadata": {},
   "source": [
    "# Q3-) Is there a sign to change the diversity in short term? I would like to analyze diversity among students as a follower of professionals. \n",
    "\n",
    "The students will be the followers of professional developers so if I can check the distribution among them, I can see the short term changes about diversity."
   ]
  },
  {
   "cell_type": "code",
   "execution_count": 471,
   "metadata": {},
   "outputs": [
    {
     "data": {
      "text/html": [
       "<div>\n",
       "<style scoped>\n",
       "    .dataframe tbody tr th:only-of-type {\n",
       "        vertical-align: middle;\n",
       "    }\n",
       "\n",
       "    .dataframe tbody tr th {\n",
       "        vertical-align: top;\n",
       "    }\n",
       "\n",
       "    .dataframe thead th {\n",
       "        text-align: right;\n",
       "    }\n",
       "</style>\n",
       "<table border=\"1\" class=\"dataframe\">\n",
       "  <thead>\n",
       "    <tr style=\"text-align: right;\">\n",
       "      <th></th>\n",
       "      <th>Respondent</th>\n",
       "      <th>Professional</th>\n",
       "      <th>ProgramHobby</th>\n",
       "      <th>Country</th>\n",
       "      <th>University</th>\n",
       "      <th>EmploymentStatus</th>\n",
       "      <th>FormalEducation</th>\n",
       "      <th>MajorUndergrad</th>\n",
       "      <th>HomeRemote</th>\n",
       "      <th>CompanySize</th>\n",
       "      <th>...</th>\n",
       "      <th>StackOverflowMakeMoney</th>\n",
       "      <th>Gender</th>\n",
       "      <th>HighestEducationParents</th>\n",
       "      <th>Race</th>\n",
       "      <th>SurveyLong</th>\n",
       "      <th>QuestionsInteresting</th>\n",
       "      <th>QuestionsConfusing</th>\n",
       "      <th>InterestedAnswers</th>\n",
       "      <th>Salary</th>\n",
       "      <th>ExpectedSalary</th>\n",
       "    </tr>\n",
       "  </thead>\n",
       "  <tbody>\n",
       "    <tr>\n",
       "      <td>0</td>\n",
       "      <td>1</td>\n",
       "      <td>Student</td>\n",
       "      <td>Yes, both</td>\n",
       "      <td>United States</td>\n",
       "      <td>No</td>\n",
       "      <td>Not employed, and not looking for work</td>\n",
       "      <td>Secondary school</td>\n",
       "      <td>NaN</td>\n",
       "      <td>NaN</td>\n",
       "      <td>NaN</td>\n",
       "      <td>...</td>\n",
       "      <td>Strongly disagree</td>\n",
       "      <td>Male</td>\n",
       "      <td>High school</td>\n",
       "      <td>White or of European descent</td>\n",
       "      <td>Strongly disagree</td>\n",
       "      <td>Strongly agree</td>\n",
       "      <td>Disagree</td>\n",
       "      <td>Strongly agree</td>\n",
       "      <td>NaN</td>\n",
       "      <td>NaN</td>\n",
       "    </tr>\n",
       "    <tr>\n",
       "      <td>1</td>\n",
       "      <td>2</td>\n",
       "      <td>Student</td>\n",
       "      <td>Yes, both</td>\n",
       "      <td>United Kingdom</td>\n",
       "      <td>Yes, full-time</td>\n",
       "      <td>Employed part-time</td>\n",
       "      <td>Some college/university study without earning ...</td>\n",
       "      <td>Computer science or software engineering</td>\n",
       "      <td>More than half, but not all, the time</td>\n",
       "      <td>20 to 99 employees</td>\n",
       "      <td>...</td>\n",
       "      <td>Strongly disagree</td>\n",
       "      <td>Male</td>\n",
       "      <td>A master's degree</td>\n",
       "      <td>White or of European descent</td>\n",
       "      <td>Somewhat agree</td>\n",
       "      <td>Somewhat agree</td>\n",
       "      <td>Disagree</td>\n",
       "      <td>Strongly agree</td>\n",
       "      <td>NaN</td>\n",
       "      <td>37500.0</td>\n",
       "    </tr>\n",
       "    <tr>\n",
       "      <td>5</td>\n",
       "      <td>6</td>\n",
       "      <td>Student</td>\n",
       "      <td>Yes, both</td>\n",
       "      <td>New Zealand</td>\n",
       "      <td>Yes, full-time</td>\n",
       "      <td>Not employed, and not looking for work</td>\n",
       "      <td>Secondary school</td>\n",
       "      <td>NaN</td>\n",
       "      <td>NaN</td>\n",
       "      <td>NaN</td>\n",
       "      <td>...</td>\n",
       "      <td>Disagree</td>\n",
       "      <td>NaN</td>\n",
       "      <td>A bachelor's degree</td>\n",
       "      <td>White or of European descent</td>\n",
       "      <td>Disagree</td>\n",
       "      <td>Agree</td>\n",
       "      <td>Disagree</td>\n",
       "      <td>Agree</td>\n",
       "      <td>NaN</td>\n",
       "      <td>NaN</td>\n",
       "    </tr>\n",
       "    <tr>\n",
       "      <td>43</td>\n",
       "      <td>44</td>\n",
       "      <td>Student</td>\n",
       "      <td>Yes, I program as a hobby</td>\n",
       "      <td>Croatia</td>\n",
       "      <td>Yes, full-time</td>\n",
       "      <td>Not employed, but looking for work</td>\n",
       "      <td>Secondary school</td>\n",
       "      <td>NaN</td>\n",
       "      <td>NaN</td>\n",
       "      <td>NaN</td>\n",
       "      <td>...</td>\n",
       "      <td>NaN</td>\n",
       "      <td>NaN</td>\n",
       "      <td>NaN</td>\n",
       "      <td>NaN</td>\n",
       "      <td>NaN</td>\n",
       "      <td>NaN</td>\n",
       "      <td>NaN</td>\n",
       "      <td>NaN</td>\n",
       "      <td>NaN</td>\n",
       "      <td>NaN</td>\n",
       "    </tr>\n",
       "    <tr>\n",
       "      <td>45</td>\n",
       "      <td>46</td>\n",
       "      <td>Student</td>\n",
       "      <td>Yes, both</td>\n",
       "      <td>United States</td>\n",
       "      <td>No</td>\n",
       "      <td>I prefer not to say</td>\n",
       "      <td>I prefer not to answer</td>\n",
       "      <td>NaN</td>\n",
       "      <td>NaN</td>\n",
       "      <td>NaN</td>\n",
       "      <td>...</td>\n",
       "      <td>Disagree</td>\n",
       "      <td>Male</td>\n",
       "      <td>A doctoral degree</td>\n",
       "      <td>White or of European descent</td>\n",
       "      <td>Disagree</td>\n",
       "      <td>Somewhat agree</td>\n",
       "      <td>Disagree</td>\n",
       "      <td>Agree</td>\n",
       "      <td>NaN</td>\n",
       "      <td>NaN</td>\n",
       "    </tr>\n",
       "  </tbody>\n",
       "</table>\n",
       "<p>5 rows × 154 columns</p>\n",
       "</div>"
      ],
      "text/plain": [
       "    Respondent Professional               ProgramHobby         Country  \\\n",
       "0            1      Student                  Yes, both   United States   \n",
       "1            2      Student                  Yes, both  United Kingdom   \n",
       "5            6      Student                  Yes, both     New Zealand   \n",
       "43          44      Student  Yes, I program as a hobby         Croatia   \n",
       "45          46      Student                  Yes, both   United States   \n",
       "\n",
       "        University                        EmploymentStatus  \\\n",
       "0               No  Not employed, and not looking for work   \n",
       "1   Yes, full-time                      Employed part-time   \n",
       "5   Yes, full-time  Not employed, and not looking for work   \n",
       "43  Yes, full-time      Not employed, but looking for work   \n",
       "45              No                     I prefer not to say   \n",
       "\n",
       "                                      FormalEducation  \\\n",
       "0                                    Secondary school   \n",
       "1   Some college/university study without earning ...   \n",
       "5                                    Secondary school   \n",
       "43                                   Secondary school   \n",
       "45                             I prefer not to answer   \n",
       "\n",
       "                              MajorUndergrad  \\\n",
       "0                                        NaN   \n",
       "1   Computer science or software engineering   \n",
       "5                                        NaN   \n",
       "43                                       NaN   \n",
       "45                                       NaN   \n",
       "\n",
       "                               HomeRemote         CompanySize  ...  \\\n",
       "0                                     NaN                 NaN  ...   \n",
       "1   More than half, but not all, the time  20 to 99 employees  ...   \n",
       "5                                     NaN                 NaN  ...   \n",
       "43                                    NaN                 NaN  ...   \n",
       "45                                    NaN                 NaN  ...   \n",
       "\n",
       "   StackOverflowMakeMoney Gender HighestEducationParents  \\\n",
       "0       Strongly disagree   Male             High school   \n",
       "1       Strongly disagree   Male       A master's degree   \n",
       "5                Disagree    NaN     A bachelor's degree   \n",
       "43                    NaN    NaN                     NaN   \n",
       "45               Disagree   Male       A doctoral degree   \n",
       "\n",
       "                            Race         SurveyLong QuestionsInteresting  \\\n",
       "0   White or of European descent  Strongly disagree       Strongly agree   \n",
       "1   White or of European descent     Somewhat agree       Somewhat agree   \n",
       "5   White or of European descent           Disagree                Agree   \n",
       "43                           NaN                NaN                  NaN   \n",
       "45  White or of European descent           Disagree       Somewhat agree   \n",
       "\n",
       "   QuestionsConfusing InterestedAnswers  Salary  ExpectedSalary  \n",
       "0            Disagree    Strongly agree     NaN             NaN  \n",
       "1            Disagree    Strongly agree     NaN         37500.0  \n",
       "5            Disagree             Agree     NaN             NaN  \n",
       "43                NaN               NaN     NaN             NaN  \n",
       "45           Disagree             Agree     NaN             NaN  \n",
       "\n",
       "[5 rows x 154 columns]"
      ]
     },
     "execution_count": 471,
     "metadata": {},
     "output_type": "execute_result"
    }
   ],
   "source": [
    "df_s=df[df.Professional ==\"Student\"]\n",
    "df_s.head()"
   ]
  },
  {
   "cell_type": "code",
   "execution_count": 472,
   "metadata": {},
   "outputs": [
    {
     "data": {
      "text/plain": [
       "4403"
      ]
     },
     "execution_count": 472,
     "metadata": {},
     "output_type": "execute_result"
    }
   ],
   "source": [
    "x_gs=sum(df_s.Gender.value_counts())\n",
    "x_gs"
   ]
  },
  {
   "cell_type": "code",
   "execution_count": 473,
   "metadata": {},
   "outputs": [
    {
     "data": {
      "text/plain": [
       "Male                                                       87.781058\n",
       "Female                                                      8.017261\n",
       "Other                                                       1.271860\n",
       "Gender non-conforming                                       1.044742\n",
       "Male; Other                                                 0.635930\n",
       "Female; Transgender                                         0.272541\n",
       "Transgender                                                 0.204406\n",
       "Male; Gender non-conforming                                 0.204406\n",
       "Transgender; Gender non-conforming                          0.090847\n",
       "Male; Female; Transgender; Gender non-conforming; Other     0.045424\n",
       "Male; Transgender; Gender non-conforming                    0.045424\n",
       "Male; Female; Transgender; Gender non-conforming            0.045424\n",
       "Male; Transgender                                           0.045424\n",
       "Male; Female                                                0.045424\n",
       "Gender non-conforming; Other                                0.045424\n",
       "Female; Gender non-conforming                               0.045424\n",
       "Male; Female; Gender non-conforming; Other                  0.022712\n",
       "Male; Female; Transgender; Other                            0.022712\n",
       "Male; Female; Transgender                                   0.022712\n",
       "Female; Other                                               0.022712\n",
       "Female; Transgender; Gender non-conforming                  0.022712\n",
       "Female; Gender non-conforming; Other                        0.022712\n",
       "Male; Gender non-conforming; Other                          0.022712\n",
       "Name: Gender, dtype: float64"
      ]
     },
     "execution_count": 473,
     "metadata": {},
     "output_type": "execute_result"
    },
    {
     "data": {
      "image/png": "[encoded data removed]",
      "text/plain": [
       "<Figure size 1080x864 with 1 Axes>"
      ]
     },
     "metadata": {
      "needs_background": "light"
     },
     "output_type": "display_data"
    }
   ],
   "source": [
    "gs_vals = df_s.Gender.value_counts()#Provide a pandas series of the counts for each status\n",
    "\n",
    "(100*gs_vals[:2]/(x_gs)).plot(kind=\"bar\")\n",
    "plt.title(\"Student population - Gender Distribution?\");\n",
    "(gs_vals/x_gs)*100 # percentage over non-null values"
   ]
  },
  {
   "cell_type": "code",
   "execution_count": 474,
   "metadata": {},
   "outputs": [
    {
     "data": {
      "text/plain": [
       "4097"
      ]
     },
     "execution_count": 474,
     "metadata": {},
     "output_type": "execute_result"
    }
   ],
   "source": [
    "x_rs=sum(df_s.Race.value_counts())\n",
    "x_rs"
   ]
  },
  {
   "cell_type": "code",
   "execution_count": 475,
   "metadata": {},
   "outputs": [
    {
     "data": {
      "text/plain": [
       "White or of European descent                                                                                                                                                                                                     60.654137\n",
       "South Asian                                                                                                                                                                                                                      11.740298\n",
       "East Asian                                                                                                                                                                                                                        6.053210\n",
       "Middle Eastern                                                                                                                                                                                                                    3.563583\n",
       "Hispanic or Latino/Latina                                                                                                                                                                                                         3.514767\n",
       "I don’t know                                                                                                                                                                                                                      3.075421\n",
       "Black or of African descent                                                                                                                                                                                                       3.075421\n",
       "I prefer not to say                                                                                                                                                                                                               2.855748\n",
       "Hispanic or Latino/Latina; White or of European descent                                                                                                                                                                           1.318038\n",
       "East Asian; South Asian                                                                                                                                                                                                           0.634611\n",
       "Middle Eastern; White or of European descent                                                                                                                                                                                      0.634611\n",
       "East Asian; White or of European descent                                                                                                                                                                                          0.463754\n",
       "South Asian; White or of European descent                                                                                                                                                                                         0.341713\n",
       "Native American, Pacific Islander, or Indigenous Australian; White or of European descent                                                                                                                                         0.244081\n",
       "Native American, Pacific Islander, or Indigenous Australian                                                                                                                                                                       0.195265\n",
       "White or of European descent; I don’t know                                                                                                                                                                                        0.146449\n",
       "I don’t know; I prefer not to say                                                                                                                                                                                                 0.097632\n",
       "Black or of African descent; Hispanic or Latino/Latina                                                                                                                                                                            0.097632\n",
       "Middle Eastern; South Asian                                                                                                                                                                                                       0.097632\n",
       "East Asian; Hispanic or Latino/Latina                                                                                                                                                                                             0.073224\n",
       "Black or of African descent; East Asian; Hispanic or Latino/Latina; Middle Eastern; Native American, Pacific Islander, or Indigenous Australian; South Asian; White or of European descent; I don’t know; I prefer not to say     0.073224\n",
       "East Asian; South Asian; I don’t know                                                                                                                                                                                             0.073224\n",
       "White or of European descent; I prefer not to say                                                                                                                                                                                 0.073224\n",
       "South Asian; I don’t know                                                                                                                                                                                                         0.048816\n",
       "Black or of African descent; I prefer not to say                                                                                                                                                                                  0.048816\n",
       "Hispanic or Latino/Latina; White or of European descent; I don’t know                                                                                                                                                             0.048816\n",
       "Black or of African descent; White or of European descent                                                                                                                                                                         0.048816\n",
       "Black or of African descent; East Asian; Hispanic or Latino/Latina; Middle Eastern; Native American, Pacific Islander, or Indigenous Australian; South Asian; White or of European descent                                        0.024408\n",
       "Black or of African descent; East Asian; South Asian; White or of European descent                                                                                                                                                0.024408\n",
       "Hispanic or Latino/Latina; I don’t know                                                                                                                                                                                           0.024408\n",
       "East Asian; Hispanic or Latino/Latina; Native American, Pacific Islander, or Indigenous Australian; White or of European descent                                                                                                  0.024408\n",
       "White or of European descent; I don’t know; I prefer not to say                                                                                                                                                                   0.024408\n",
       "Hispanic or Latino/Latina; Native American, Pacific Islander, or Indigenous Australian; White or of European descent                                                                                                              0.024408\n",
       "East Asian; Native American, Pacific Islander, or Indigenous Australian; I don’t know                                                                                                                                             0.024408\n",
       "East Asian; Middle Eastern; South Asian                                                                                                                                                                                           0.024408\n",
       "East Asian; South Asian; White or of European descent                                                                                                                                                                             0.024408\n",
       "Black or of African descent; East Asian; Middle Eastern; White or of European descent                                                                                                                                             0.024408\n",
       "Black or of African descent; South Asian                                                                                                                                                                                          0.024408\n",
       "South Asian; White or of European descent; I don’t know                                                                                                                                                                           0.024408\n",
       "Middle Eastern; I prefer not to say                                                                                                                                                                                               0.024408\n",
       "Black or of African descent; Hispanic or Latino/Latina; White or of European descent                                                                                                                                              0.024408\n",
       "Black or of African descent; East Asian; Middle Eastern; I don’t know                                                                                                                                                             0.024408\n",
       "Black or of African descent; Native American, Pacific Islander, or Indigenous Australian; White or of European descent                                                                                                            0.024408\n",
       "Native American, Pacific Islander, or Indigenous Australian; South Asian                                                                                                                                                          0.024408\n",
       "Black or of African descent; Middle Eastern; Native American, Pacific Islander, or Indigenous Australian; White or of European descent                                                                                            0.024408\n",
       "Black or of African descent; East Asian                                                                                                                                                                                           0.024408\n",
       "Black or of African descent; White or of European descent; I prefer not to say                                                                                                                                                    0.024408\n",
       "Middle Eastern; Native American, Pacific Islander, or Indigenous Australian; White or of European descent                                                                                                                         0.024408\n",
       "Black or of African descent; Middle Eastern                                                                                                                                                                                       0.024408\n",
       "Black or of African descent; Middle Eastern; South Asian                                                                                                                                                                          0.024408\n",
       "East Asian; Hispanic or Latino/Latina; Middle Eastern; Native American, Pacific Islander, or Indigenous Australian; White or of European descent                                                                                  0.024408\n",
       "East Asian; Middle Eastern; Native American, Pacific Islander, or Indigenous Australian; South Asian; White or of European descent                                                                                                0.024408\n",
       "Middle Eastern; I don’t know                                                                                                                                                                                                      0.024408\n",
       "Black or of African descent; Hispanic or Latino/Latina; I don’t know                                                                                                                                                              0.024408\n",
       "Black or of African descent; Middle Eastern; White or of European descent; I don’t know                                                                                                                                           0.024408\n",
       "East Asian; Native American, Pacific Islander, or Indigenous Australian; South Asian                                                                                                                                              0.024408\n",
       "Name: Race, dtype: float64"
      ]
     },
     "execution_count": 475,
     "metadata": {},
     "output_type": "execute_result"
    },
    {
     "data": {
      "image/png": "[encoded data removed]",
      "text/plain": [
       "<Figure size 1080x864 with 1 Axes>"
      ]
     },
     "metadata": {
      "needs_background": "light"
     },
     "output_type": "display_data"
    }
   ],
   "source": [
    "rs_vals = df_s.Race.value_counts()#Provide a pandas series of the counts for each status\n",
    "\n",
    "(100*rs_vals[:3]/(x_rs)).plot(kind=\"bar\")\n",
    "plt.title(\"Define population - Race Distribution?\");\n",
    "(rs_vals/x_rs)*100 # percentage over non-null values"
   ]
  },
  {
   "cell_type": "code",
   "execution_count": 476,
   "metadata": {},
   "outputs": [
    {
     "data": {
      "text/plain": [
       "4297"
      ]
     },
     "execution_count": 476,
     "metadata": {},
     "output_type": "execute_result"
    }
   ],
   "source": [
    "xs_di=sum(df_s.DiversityImportant.value_counts())\n",
    "xs_di"
   ]
  },
  {
   "cell_type": "code",
   "execution_count": 477,
   "metadata": {},
   "outputs": [
    {
     "data": {
      "text/plain": [
       "Agree                38.841052\n",
       "Somewhat agree       26.064696\n",
       "Strongly agree       23.574587\n",
       "Disagree              6.888527\n",
       "Strongly disagree     4.631138\n",
       "Name: DiversityImportant, dtype: float64"
      ]
     },
     "execution_count": 477,
     "metadata": {},
     "output_type": "execute_result"
    },
    {
     "data": {
      "image/png": "[encoded data removed]",
      "text/plain": [
       "<Figure size 1080x864 with 1 Axes>"
      ]
     },
     "metadata": {
      "needs_background": "light"
     },
     "output_type": "display_data"
    }
   ],
   "source": [
    "dis_vals = df_s.DiversityImportant.value_counts()#Provide a pandas series of the counts for each status\n",
    "r_order = [\"Strongly agree\", \"Agree\", \"Somewhat agree\", \"Disagree\", \"Strongly disagree\"]\n",
    "\n",
    "\n",
    "(100*dis_vals[:5]/(xs_di)).loc[r_order].plot(kind=\"bar\")\n",
    "\n",
    "plt.title(\"Define population - Diversity Importance?\");\n",
    "(dis_vals/xs_di)*100 # percentage over non-null values"
   ]
  },
  {
   "cell_type": "markdown",
   "metadata": {},
   "source": [
    "# Results for Q3\n",
    "\n",
    "Professional Developer \n",
    "- Male 91%, Female 7%\n",
    "- White or of European descent 72.7% , Asian(South and West) 11%\n",
    "- 'Strongly Agree' + 'Agree' = 65%\n",
    "\n",
    "Student\n",
    "- Male 87.8%, Female 8%\n",
    "- White or of European descent 60.6% , Asian(South and West) 17.8%\n",
    "- 'Strongly Agree' + 'Agree' = 62.4%\n",
    "\n",
    "### In conclusion, \n",
    "Even there is a positive change for female on gender distribution, it is really small to change overall distribution in short term. In addition to that, race distribution has changed significantly and it is a sign that Asia will be more powerful than before on software side in short term. \n",
    "On the other hand, the perspective on diversity has become detoriated. It can be related with the paradigm shift of the foreign policy powerful countries during survey date."
   ]
  },
  {
   "cell_type": "markdown",
   "metadata": {},
   "source": [
    "# Deploy\n",
    "\n",
    "I deployed my results on medium as defined on readme file."
   ]
  },
  {
   "cell_type": "code",
   "execution_count": null,
   "metadata": {},
   "outputs": [],
   "source": []
  }
 ],
 "metadata": {
  "kernelspec": {
   "display_name": "Python 3",
   "language": "python",
   "name": "python3"
  },
  "language_info": {
   "codemirror_mode": {
    "name": "ipython",
    "version": 3
   },
   "file_extension": ".py",
   "mimetype": "text/x-python",
   "name": "python",
   "nbconvert_exporter": "python",
   "pygments_lexer": "ipython3",
   "version": "3.7.4"
  }
 },
 "nbformat": 4,
 "nbformat_minor": 2
}
